{
 "cells": [
  {
   "cell_type": "code",
   "execution_count": 1,
   "metadata": {},
   "outputs": [
    {
     "name": "stderr",
     "output_type": "stream",
     "text": [
      "Using TensorFlow backend.\n"
     ]
    },
    {
     "data": {
      "text/plain": [
       "'2.2.4'"
      ]
     },
     "execution_count": 1,
     "metadata": {},
     "output_type": "execute_result"
    }
   ],
   "source": [
    "import keras\n",
    "keras.__version__"
   ]
  },
  {
   "cell_type": "markdown",
   "metadata": {},
   "source": [
    "# 使用预训练的卷积神经网络\n",
    "-----\n",
    "-----\n",
    "\n",
    "* 要想将深度学习应用于小数据集，一个常用且高效的方法是使用预训练网络。预训练网络是一个保存好的网络，之前已经在大型数据集（通常是大规模图像分类任务）上训练好。\n",
    "* 如果原始的大型数据集足够大且足够通用，因此这些特征可用于不同的计算机视觉问题，即使新问题涉及的类别和原始类别完全不同。\n",
    "* 这种学到的特征在不同问题之间的可移植性，是深度学习与许多早期浅层学习方法相比所具有的重要优势，这使得深度学习对小数据特别有效。\n",
    "* 本例中，假设有一个在ImageNet数据集（140万标记图片，1000个不同种类）上训练好的大型神经网络。ImageNet中包含许多动物类别，其中包括不同种类的猫狗，因此认为它在猫狗分类问题中也有良好表现。\n",
    "* 我们使用VGG16架构，虽然它比较陈旧，性能也比不上当前的先进模型，而且它还比许多新模型更为复杂。这里选择使用它，仅仅是因为它的架构与之前介绍的架构很相似，这样无需引入新概念便可理解。\n",
    "* 使用预训练有两种方法：特征提取，模型微调。先来看特征提取："
   ]
  },
  {
   "cell_type": "markdown",
   "metadata": {},
   "source": [
    "## 特征提取\n",
    "-----\n",
    "* 特征提取是使用从之前网络学到的表示来从新样本中提取有趣的特征，然后将这些特征输入到一个新的分类器，从头开始训练。\n",
    "* 用于图像分类的卷积神经网络包括两部分：先是多个卷积层和池化层，然后是一个全连接层。第一部分叫卷积基。\n",
    "* 对于神经网络而言，特征提取就是取出之前训练好的网络的卷积基，在上面运行新数据，然后在输出上面训练一个新的分类器。\n",
    "\n",
    "<img src=\"https://s3.amazonaws.com/book.keras.io/img/ch5/swapping_fc_classifier.png\" width = 40% height = 50% />    \n",
    "\n",
    "\n",
    "* 为什么仅仅使用卷积基？密集连接分类器是否也可以重用？一般来说应避免这么做。原因是卷积基学到的表示可能更加通用，因此可以重复使用。\n",
    "* 卷积神经网络的特征图表示了通用概念在图像中是否存在，无论面对什么视觉问题，这种特征图都可能有用。\n",
    "* 但是，分类器学到的表示必然是针对模型训练的类别，其中仅包含某个类别出现在整张图中的概率。而且，密集连接层舍弃了空间信息，而位置信息仍然由卷积特征图表示。如果物体位置对于问题很重要，那么密集连接层的特征在很大程度上是无用的。\n",
    "* 某个卷积层提取的表示的通用性（或可复用性）取决于该层在模型中的深度。模型中靠近底层的提取的是局部的、高度通用的特征图（比如视觉边缘、颜色、纹理），而更靠近顶层的则是更加抽象的概念（如猫耳朵，狗眼睛）。\n",
    "* 因此，<font color='red'>如果新数据集与原始模型训练的数据集有很大差异，最好只使用模型的前几层来做特征提取，而不是使用整个卷积基</font>。\n",
    "* 本例中，由于ImageNet中包含猫狗的类别，所以重复使用密集连接层包含的信息可能很有用。但我们不这么做，以便涵盖原始数据集与新问题不同的情况。\n",
    "* 我们实践一下，使用在ImageNet上训练的VGG17网络的卷积基从猫狗图像中提取有趣的特征，然后在这些特征上训练一个猫狗分类器。"
   ]
  },
  {
   "cell_type": "markdown",
   "metadata": {},
   "source": [
    "VGG模型和其它的模型已经预先打包在keras里，可以从`keras.applications`模块中导入。下面是一些预先打包好的模型（都是基于ImageNet训练得到的）：\n",
    "\n",
    "* Xception\n",
    "* InceptionV3\n",
    "* ResNet50\n",
    "* VGG16\n",
    "* VGG19\n",
    "* MobileNet\n",
    "\n",
    "我们实例化一下VGG16模型:"
   ]
  },
  {
   "cell_type": "code",
   "execution_count": 2,
   "metadata": {},
   "outputs": [],
   "source": [
    "# 将 VGG16 卷积基实例化\n",
    "from keras.applications import VGG16\n",
    "\n",
    "conv_base = VGG16(weights='imagenet',\n",
    "                  include_top=False,\n",
    "                  input_shape=(150, 150, 3))"
   ]
  },
  {
   "cell_type": "markdown",
   "metadata": {},
   "source": [
    "向构造函数中传入了三个参数。\n",
    "* weights 指定模型初始化的权重检查点。\n",
    "* include_top 指定模型最后是否包含密集连接分类器。默认情况下，这个密集连接分类器对应于 ImageNet 的 1000 个类别。因为我们打算使用自己的密集连接分类器（只有\n",
    "两个类别：cat 和 dog），所以不需要包含它。\n",
    "* input_shape 是输入到网络中的图像张量的形状。这个参数完全是可选的，如果不传入这个参数，那么网络能够处理任意形状的输入。 \n",
    "\n",
    "VGG16 卷积基的详细架构如下所示。"
   ]
  },
  {
   "cell_type": "code",
   "execution_count": 3,
   "metadata": {},
   "outputs": [
    {
     "name": "stdout",
     "output_type": "stream",
     "text": [
      "_________________________________________________________________\n",
      "Layer (type)                 Output Shape              Param #   \n",
      "=================================================================\n",
      "input_1 (InputLayer)         (None, 150, 150, 3)       0         \n",
      "_________________________________________________________________\n",
      "block1_conv1 (Conv2D)        (None, 150, 150, 64)      1792      \n",
      "_________________________________________________________________\n",
      "block1_conv2 (Conv2D)        (None, 150, 150, 64)      36928     \n",
      "_________________________________________________________________\n",
      "block1_pool (MaxPooling2D)   (None, 75, 75, 64)        0         \n",
      "_________________________________________________________________\n",
      "block2_conv1 (Conv2D)        (None, 75, 75, 128)       73856     \n",
      "_________________________________________________________________\n",
      "block2_conv2 (Conv2D)        (None, 75, 75, 128)       147584    \n",
      "_________________________________________________________________\n",
      "block2_pool (MaxPooling2D)   (None, 37, 37, 128)       0         \n",
      "_________________________________________________________________\n",
      "block3_conv1 (Conv2D)        (None, 37, 37, 256)       295168    \n",
      "_________________________________________________________________\n",
      "block3_conv2 (Conv2D)        (None, 37, 37, 256)       590080    \n",
      "_________________________________________________________________\n",
      "block3_conv3 (Conv2D)        (None, 37, 37, 256)       590080    \n",
      "_________________________________________________________________\n",
      "block3_pool (MaxPooling2D)   (None, 18, 18, 256)       0         \n",
      "_________________________________________________________________\n",
      "block4_conv1 (Conv2D)        (None, 18, 18, 512)       1180160   \n",
      "_________________________________________________________________\n",
      "block4_conv2 (Conv2D)        (None, 18, 18, 512)       2359808   \n",
      "_________________________________________________________________\n",
      "block4_conv3 (Conv2D)        (None, 18, 18, 512)       2359808   \n",
      "_________________________________________________________________\n",
      "block4_pool (MaxPooling2D)   (None, 9, 9, 512)         0         \n",
      "_________________________________________________________________\n",
      "block5_conv1 (Conv2D)        (None, 9, 9, 512)         2359808   \n",
      "_________________________________________________________________\n",
      "block5_conv2 (Conv2D)        (None, 9, 9, 512)         2359808   \n",
      "_________________________________________________________________\n",
      "block5_conv3 (Conv2D)        (None, 9, 9, 512)         2359808   \n",
      "_________________________________________________________________\n",
      "block5_pool (MaxPooling2D)   (None, 4, 4, 512)         0         \n",
      "=================================================================\n",
      "Total params: 14,714,688\n",
      "Trainable params: 14,714,688\n",
      "Non-trainable params: 0\n",
      "_________________________________________________________________\n"
     ]
    }
   ],
   "source": [
    "conv_base.summary()"
   ]
  },
  {
   "cell_type": "markdown",
   "metadata": {},
   "source": [
    "最后一层输出的特征图形状为 (4, 4, 512)。我们将在这个特征上添加一个密集连接分类器。\n",
    "\n",
    "接下来，下一步有2种选择可供选择：\n",
    "* 在新的数据集上运行卷积基，将输出保存成硬盘上的numpy数组，然后用这个数据作为输入，输入到独立的密集连接分类器中。  \n",
    "  这种方法优点是`速度快，计算代价低`；相反的缺点就是这种方法`不允许使用数据增强`。\n",
    "* 在顶层添加Dense层来扩展已有模型，并在输入数据上端到端地运行整个模型。这样便可以使用数据增强，因为每个图形都会经过卷积基。\n",
    "    但出于同样的原因，这种方法的计算代价要比第一种高出很多。\n",
    "    \n",
    "首先看第一种方法：在卷积基上运行数据，并保存输出，然后将这些输出作为输入用于新模型。"
   ]
  },
  {
   "cell_type": "markdown",
   "metadata": {},
   "source": [
    "### 1. 不使用数据增强的快速特征提取  \n",
    "----\n",
    "首先，运行 ImageDataGenerator 实例，将图像及其标签提取为 Numpy 数组。我们需要调用 conv_base 模型的 predict 方法来从这些图像中提取特征。  \n",
    "不使用数据增强的快速特征提取，这种方法就是，利用模型的卷积基对数据进行运算，输出结果保存为Numpy数组，后续使用此数据继续在全连接层上继续计算。  \n",
    "<font color='red'>反思： 所谓predict方法，现在理解就是，针对模型输入数据，根据模型中的各种算法（各种激活函数）对输入数据一层一层的计算下来。计算的结果，依赖于最后一个激活函数的输出。</font>"
   ]
  },
  {
   "cell_type": "code",
   "execution_count": 4,
   "metadata": {},
   "outputs": [
    {
     "name": "stdout",
     "output_type": "stream",
     "text": [
      "Found 2000 images belonging to 2 classes.\n",
      "Found 1000 images belonging to 2 classes.\n",
      "Found 1000 images belonging to 2 classes.\n"
     ]
    }
   ],
   "source": [
    "import os\n",
    "import numpy as np\n",
    "from keras.preprocessing.image import ImageDataGenerator\n",
    "# 存放训练集，验证集、测试集的根目录\n",
    "#base_dir = '/home/lys/aidata/catdogs/newdir'  # for linux\n",
    "base_dir = 'D:\\\\mldata\\\\catdogs\\\\newdir' \n",
    "\n",
    "train_dir = os.path.join(base_dir, 'train')\n",
    "validation_dir = os.path.join(base_dir, 'validation')\n",
    "test_dir = os.path.join(base_dir, 'test')\n",
    "\n",
    "datagen = ImageDataGenerator(rescale=1./255)\n",
    "batch_size = 20\n",
    "\n",
    "def extract_features(directory, sample_count):\n",
    "    features = np.zeros(shape=(sample_count, 4, 4, 512))\n",
    "    labels = np.zeros(shape=(sample_count))\n",
    "    generator = datagen.flow_from_directory(\n",
    "        directory,\n",
    "        target_size=(150, 150),\n",
    "        batch_size=batch_size,\n",
    "        class_mode='binary')\n",
    "    i = 0\n",
    "    for inputs_batch, labels_batch in generator:\n",
    "        features_batch = conv_base.predict(inputs_batch)\n",
    "        features[i * batch_size: (i + 1) * batch_size] = features_batch\n",
    "        labels[i * batch_size: (i + 1) * batch_size] = labels_batch\n",
    "        i += 1\n",
    "        if i * batch_size >= sample_count:\n",
    "            # 注意，这些生成器在循环中不断生成数据，所以你必须在读取完所有图像后终止循环\n",
    "            break\n",
    "    return features, labels\n",
    "\n",
    "\n",
    "train_features, train_labels = extract_features(train_dir, 2000)\n",
    "validation_features, validation_labels = extract_features(validation_dir, 1000)\n",
    "test_features, test_labels = extract_features(test_dir, 1000)"
   ]
  },
  {
   "cell_type": "code",
   "execution_count": null,
   "metadata": {},
   "outputs": [],
   "source": [
    "# extract_features方法原理探究,无需执行\n",
    "def extract_features1(directory, sample_count):\n",
    "    features = np.zeros(shape=(sample_count, 4, 4, 512))\n",
    "    labels = np.zeros(shape=(sample_count))\n",
    "    generator = datagen.flow_from_directory(\n",
    "        directory,\n",
    "        target_size=(150, 150),\n",
    "        batch_size=batch_size,\n",
    "        class_mode='binary')\n",
    "    i = 0\n",
    "    for inputs_batch, labels_batch in generator:\n",
    "        print('inputs_batch.shape:',inputs_batch.shape)\n",
    "        #print('inputs_batch[0] : ',inputs_batch[0])\n",
    "        print('labels_batch.shape:',labels_batch.shape)\n",
    "        print('labels_batch[0] : ',labels_batch[0])\n",
    "        features_batch = conv_base.predict(inputs_batch)\n",
    "        print('features_batch.shape:',features_batch.shape) # 可以预见，与模型的最后输出的shape相同\n",
    "        # 把生成好的特征塞入features中，注意第一维度按批次存放\n",
    "        # 因为生成器的批次设置为20，因此第一次循环是0~20，第二次是20~40如此循环，直至最后的1980~2000结束\n",
    "        features[i * batch_size: (i + 1) * batch_size] = features_batch \n",
    "        labels[i * batch_size: (i + 1) * batch_size] = labels_batch\n",
    "        i += 1\n",
    "        if i * batch_size >= 20:  # 为探究方便，改成处理20个图像就退出\n",
    "            # 注意，这些生成器在循环中不断生成数据，所以必须在读取完所有图像后终止循环\n",
    "            break\n",
    "    return features, labels\n",
    "train_features1, train_labels1 = extract_features1(train_dir, 2000)"
   ]
  },
  {
   "cell_type": "markdown",
   "metadata": {},
   "source": [
    "目前，提取的特征形状为 (samples, 4, 4, 512)。我们要将其输入到密集连接分类器中，所以首先必须将其形状展平为 (samples, 8192)"
   ]
  },
  {
   "cell_type": "code",
   "execution_count": 5,
   "metadata": {},
   "outputs": [],
   "source": [
    "train_features = np.reshape(train_features, (2000, 4 * 4 * 512))\n",
    "validation_features = np.reshape(validation_features, (1000, 4 * 4 * 512))\n",
    "test_features = np.reshape(test_features, (1000, 4 * 4 * 512))"
   ]
  },
  {
   "cell_type": "markdown",
   "metadata": {},
   "source": [
    "现在可以定义全连接分类器（注意要使用 dropout 正则化），并在刚刚保存的数据和标签上训练这个分类器:"
   ]
  },
  {
   "cell_type": "code",
   "execution_count": 6,
   "metadata": {},
   "outputs": [
    {
     "name": "stdout",
     "output_type": "stream",
     "text": [
      "Train on 2000 samples, validate on 1000 samples\n",
      "Epoch 1/30\n",
      "2000/2000 [==============================] - 3s 1ms/step - loss: 0.6199 - acc: 0.6540 - val_loss: 0.4291 - val_acc: 0.8360\n",
      "Epoch 2/30\n",
      "2000/2000 [==============================] - 3s 1ms/step - loss: 0.4234 - acc: 0.8135 - val_loss: 0.3549 - val_acc: 0.8720\n",
      "Epoch 3/30\n",
      "2000/2000 [==============================] - 2s 1ms/step - loss: 0.3433 - acc: 0.8565 - val_loss: 0.3281 - val_acc: 0.8570\n",
      "Epoch 4/30\n",
      "2000/2000 [==============================] - 3s 1ms/step - loss: 0.3078 - acc: 0.8720 - val_loss: 0.2957 - val_acc: 0.8840\n",
      "Epoch 5/30\n",
      "2000/2000 [==============================] - 2s 1ms/step - loss: 0.2839 - acc: 0.8875 - val_loss: 0.2771 - val_acc: 0.8910\n",
      "Epoch 6/30\n",
      "2000/2000 [==============================] - 2s 1ms/step - loss: 0.2581 - acc: 0.9005 - val_loss: 0.2733 - val_acc: 0.8960\n",
      "Epoch 7/30\n",
      "2000/2000 [==============================] - 3s 1ms/step - loss: 0.2473 - acc: 0.9000 - val_loss: 0.2610 - val_acc: 0.8980\n",
      "Epoch 8/30\n",
      "2000/2000 [==============================] - 3s 1ms/step - loss: 0.2307 - acc: 0.9140 - val_loss: 0.2554 - val_acc: 0.9000\n",
      "Epoch 9/30\n",
      "2000/2000 [==============================] - 3s 1ms/step - loss: 0.2139 - acc: 0.9180 - val_loss: 0.2533 - val_acc: 0.8980\n",
      "Epoch 10/30\n",
      "2000/2000 [==============================] - 2s 1ms/step - loss: 0.2035 - acc: 0.9195 - val_loss: 0.2445 - val_acc: 0.8970\n",
      "Epoch 11/30\n",
      "2000/2000 [==============================] - 3s 1ms/step - loss: 0.1937 - acc: 0.9280 - val_loss: 0.2418 - val_acc: 0.9000\n",
      "Epoch 12/30\n",
      "2000/2000 [==============================] - 2s 1ms/step - loss: 0.1848 - acc: 0.9365 - val_loss: 0.2493 - val_acc: 0.8990\n",
      "Epoch 13/30\n",
      "2000/2000 [==============================] - 3s 1ms/step - loss: 0.1732 - acc: 0.9350 - val_loss: 0.2400 - val_acc: 0.8980\n",
      "Epoch 14/30\n",
      "2000/2000 [==============================] - 3s 1ms/step - loss: 0.1714 - acc: 0.9385 - val_loss: 0.2378 - val_acc: 0.9030\n",
      "Epoch 15/30\n",
      "2000/2000 [==============================] - 3s 1ms/step - loss: 0.1582 - acc: 0.9435 - val_loss: 0.2538 - val_acc: 0.8950\n",
      "Epoch 16/30\n",
      "2000/2000 [==============================] - 3s 1ms/step - loss: 0.1656 - acc: 0.9390 - val_loss: 0.2346 - val_acc: 0.9040\n",
      "Epoch 17/30\n",
      "2000/2000 [==============================] - 3s 1ms/step - loss: 0.1460 - acc: 0.9460 - val_loss: 0.2344 - val_acc: 0.8990\n",
      "Epoch 18/30\n",
      "2000/2000 [==============================] - 3s 1ms/step - loss: 0.1385 - acc: 0.9530 - val_loss: 0.2333 - val_acc: 0.9040\n",
      "Epoch 19/30\n",
      "2000/2000 [==============================] - 3s 1ms/step - loss: 0.1309 - acc: 0.9580 - val_loss: 0.2385 - val_acc: 0.8970\n",
      "Epoch 20/30\n",
      "2000/2000 [==============================] - 3s 1ms/step - loss: 0.1314 - acc: 0.9580 - val_loss: 0.2330 - val_acc: 0.8990\n",
      "Epoch 21/30\n",
      "2000/2000 [==============================] - 3s 1ms/step - loss: 0.1279 - acc: 0.9565 - val_loss: 0.2373 - val_acc: 0.8990\n",
      "Epoch 22/30\n",
      "2000/2000 [==============================] - 3s 1ms/step - loss: 0.1148 - acc: 0.9640 - val_loss: 0.2334 - val_acc: 0.9010\n",
      "Epoch 23/30\n",
      "2000/2000 [==============================] - 3s 1ms/step - loss: 0.1165 - acc: 0.9605 - val_loss: 0.2340 - val_acc: 0.9010\n",
      "Epoch 24/30\n",
      "2000/2000 [==============================] - 3s 1ms/step - loss: 0.1089 - acc: 0.9665 - val_loss: 0.2374 - val_acc: 0.9000\n",
      "Epoch 25/30\n",
      "2000/2000 [==============================] - 3s 1ms/step - loss: 0.1033 - acc: 0.9695 - val_loss: 0.2347 - val_acc: 0.9030\n",
      "Epoch 26/30\n",
      "2000/2000 [==============================] - 3s 1ms/step - loss: 0.0981 - acc: 0.9750 - val_loss: 0.2393 - val_acc: 0.9020\n",
      "Epoch 27/30\n",
      "2000/2000 [==============================] - 3s 1ms/step - loss: 0.0962 - acc: 0.9720 - val_loss: 0.2380 - val_acc: 0.9020\n",
      "Epoch 28/30\n",
      "2000/2000 [==============================] - 3s 1ms/step - loss: 0.0982 - acc: 0.9680 - val_loss: 0.2384 - val_acc: 0.9030\n",
      "Epoch 29/30\n",
      "2000/2000 [==============================] - 3s 1ms/step - loss: 0.0867 - acc: 0.9750 - val_loss: 0.2458 - val_acc: 0.9000\n",
      "Epoch 30/30\n",
      "2000/2000 [==============================] - 3s 1ms/step - loss: 0.0844 - acc: 0.9730 - val_loss: 0.2527 - val_acc: 0.8990\n"
     ]
    }
   ],
   "source": [
    "from keras import models\n",
    "from keras import layers\n",
    "from keras import optimizers\n",
    "\n",
    "model = models.Sequential()\n",
    "model.add(layers.Dense(256, activation='relu', input_dim=4 * 4 * 512))\n",
    "model.add(layers.Dropout(0.5))\n",
    "model.add(layers.Dense(1, activation='sigmoid'))\n",
    "\n",
    "model.compile(optimizer=optimizers.RMSprop(lr=2e-5),\n",
    "              loss='binary_crossentropy',\n",
    "              metrics=['acc'])\n",
    "\n",
    "history = model.fit(train_features, train_labels,\n",
    "                    epochs=30,\n",
    "                    batch_size=20,\n",
    "                    validation_data=(validation_features, validation_labels))"
   ]
  },
  {
   "cell_type": "markdown",
   "metadata": {},
   "source": [
    "训练速度非常快，因为只需处理两个 Dense 层。\n",
    "\n",
    "我们来看一下训练期间的损失曲线和精度曲线"
   ]
  },
  {
   "cell_type": "code",
   "execution_count": 28,
   "metadata": {},
   "outputs": [
    {
     "data": {
      "image/png": "[encoded data removed]",
      "text/plain": [
       "<Figure size 432x288 with 1 Axes>"
      ]
     },
     "metadata": {
      "needs_background": "light"
     },
     "output_type": "display_data"
    },
    {
     "data": {
      "image/png": "[encoded data removed]",
      "text/plain": [
       "<Figure size 432x288 with 1 Axes>"
      ]
     },
     "metadata": {
      "needs_background": "light"
     },
     "output_type": "display_data"
    }
   ],
   "source": [
    "import matplotlib.pyplot as plt\n",
    "\n",
    "acc = history.history['acc']\n",
    "val_acc = history.history['val_acc']\n",
    "loss = history.history['loss']\n",
    "val_loss = history.history['val_loss']\n",
    "\n",
    "epochs = range(len(acc))\n",
    "\n",
    "plt.plot(epochs, acc, 'bo', label='Training acc')\n",
    "plt.plot(epochs, val_acc, 'b', label='Validation acc')\n",
    "plt.title('Training and validation accuracy')\n",
    "plt.legend()\n",
    "\n",
    "plt.figure()\n",
    "\n",
    "plt.plot(epochs, loss, 'bo', label='Training loss')\n",
    "plt.plot(epochs, val_loss, 'b', label='Validation loss')\n",
    "plt.title('Training and validation loss')\n",
    "plt.legend()\n",
    "\n",
    "plt.show()"
   ]
  },
  {
   "cell_type": "markdown",
   "metadata": {},
   "source": [
    "\n",
    "我们的验证精度达到了约 90%，比上一节从头开始训练的小型模型效果要好得多。但从图中也可以看出，虽然 dropout 比率相当大，\n",
    "但模型几乎从一开始就过拟合。这是因为本方法没有使用数据增强，而数据增强对防止小型图像数据集的过拟合非常重要。\n"
   ]
  },
  {
   "cell_type": "markdown",
   "metadata": {},
   "source": [
    "### 2. 使用数据增强的特征提取\n",
    "----\n",
    "\n",
    "特征提取的第二种方法，它的速度更慢，计算代价更高，但在训练期间可以使用数据增强。这种方法就是：扩展 conv_base模型，然后在输入数据上端到端地运行模型。  \n",
    "模型的行为和层类似，所以你可以向 Sequential模型中添加一个模型（比如 conv_base），就像添加一个层一样。"
   ]
  },
  {
   "cell_type": "code",
   "execution_count": 7,
   "metadata": {},
   "outputs": [],
   "source": [
    "from keras import models\n",
    "from keras import layers\n",
    "\n",
    "model = models.Sequential()\n",
    "model.add(conv_base)\n",
    "model.add(layers.Flatten())\n",
    "model.add(layers.Dense(256, activation='relu'))\n",
    "model.add(layers.Dense(1, activation='sigmoid'))"
   ]
  },
  {
   "cell_type": "code",
   "execution_count": 8,
   "metadata": {},
   "outputs": [
    {
     "name": "stdout",
     "output_type": "stream",
     "text": [
      "_________________________________________________________________\n",
      "Layer (type)                 Output Shape              Param #   \n",
      "=================================================================\n",
      "vgg16 (Model)                (None, 4, 4, 512)         14714688  \n",
      "_________________________________________________________________\n",
      "flatten_1 (Flatten)          (None, 8192)              0         \n",
      "_________________________________________________________________\n",
      "dense_3 (Dense)              (None, 256)               2097408   \n",
      "_________________________________________________________________\n",
      "dense_4 (Dense)              (None, 1)                 257       \n",
      "=================================================================\n",
      "Total params: 16,812,353\n",
      "Trainable params: 16,812,353\n",
      "Non-trainable params: 0\n",
      "_________________________________________________________________\n"
     ]
    }
   ],
   "source": [
    "# 现在模型的架构如下所示:\n",
    "model.summary()"
   ]
  },
  {
   "cell_type": "markdown",
   "metadata": {},
   "source": [
    "如上所示，VGG16 的卷积基有 14 714 688 个参数，非常多。在其上添加的分类器有 200 万个参数。  \n",
    "在编译和训练模型之前，一定要<font color='red'>“冻结”卷积基</font>。冻结（freeze）一个或多个层是指在训练过程中保持其权重不变。如果不这么做，那么卷积基之前学到的表示将会在训练过程中被修改。  \n",
    "因为其上添加的 Dense 层是随机初始化的，所以非常大的权重更新将会在网络中传播，对之前学到的表示造成很大破坏。  \n",
    "在 Keras 中，冻结网络的方法是将其 trainable 属性设为 False。  "
   ]
  },
  {
   "cell_type": "code",
   "execution_count": 9,
   "metadata": {},
   "outputs": [
    {
     "name": "stdout",
     "output_type": "stream",
     "text": [
      "This is the number of trainable weights before freezing the conv base: 30\n"
     ]
    }
   ],
   "source": [
    "# 冻结卷积基之前可训练的权重张量的数量：\n",
    "print('This is the number of trainable weights '\n",
    "      'before freezing the conv base:', len(model.trainable_weights))"
   ]
  },
  {
   "cell_type": "code",
   "execution_count": 10,
   "metadata": {},
   "outputs": [],
   "source": [
    "conv_base.trainable = False"
   ]
  },
  {
   "cell_type": "code",
   "execution_count": 11,
   "metadata": {},
   "outputs": [
    {
     "name": "stdout",
     "output_type": "stream",
     "text": [
      "This is the number of trainable weights after freezing the conv base: 4\n"
     ]
    }
   ],
   "source": [
    "print('This is the number of trainable weights '\n",
    "      'after freezing the conv base:', len(model.trainable_weights))"
   ]
  },
  {
   "cell_type": "markdown",
   "metadata": {},
   "source": [
    "如此设置之后，只有添加的两个 Dense 层的权重才会被训练。总共有 4 个权重张量，每层2 个（主权重矩阵和偏置向量）。  \n",
    "注意，为了让这些修改生效，你必须先编译模型。如果在编译之后修改了权重的 trainable 属性，那么应该重新编译模型，否则这些修改将被忽略。"
   ]
  },
  {
   "cell_type": "code",
   "execution_count": 12,
   "metadata": {},
   "outputs": [
    {
     "name": "stdout",
     "output_type": "stream",
     "text": [
      "Found 2000 images belonging to 2 classes.\n",
      "Found 1000 images belonging to 2 classes.\n"
     ]
    }
   ],
   "source": [
    "from keras.preprocessing.image import ImageDataGenerator\n",
    "\n",
    "train_datagen = ImageDataGenerator(\n",
    "      rescale=1./255,\n",
    "      rotation_range=40,\n",
    "      width_shift_range=0.2,\n",
    "      height_shift_range=0.2,\n",
    "      shear_range=0.2,\n",
    "      zoom_range=0.2,\n",
    "      horizontal_flip=True,\n",
    "      fill_mode='nearest')\n",
    "\n",
    "# 注意，验证集不能被加强\n",
    "test_datagen = ImageDataGenerator(rescale=1./255)\n",
    "\n",
    "train_generator = train_datagen.flow_from_directory(\n",
    "        # This is the target directory\n",
    "        train_dir,\n",
    "        # All images will be resized to 150x150\n",
    "        target_size=(150, 150),\n",
    "        batch_size=20,\n",
    "        # Since we use binary_crossentropy loss, we need binary labels\n",
    "        class_mode='binary')\n",
    "\n",
    "validation_generator = test_datagen.flow_from_directory(\n",
    "        validation_dir,\n",
    "        target_size=(150, 150),\n",
    "        batch_size=20,\n",
    "        class_mode='binary')"
   ]
  },
  {
   "cell_type": "code",
   "execution_count": null,
   "metadata": {},
   "outputs": [],
   "source": [
    "model.compile(loss='binary_crossentropy',\n",
    "              optimizer=optimizers.RMSprop(lr=2e-5),\n",
    "              metrics=['acc'])\n",
    "\n",
    "history = model.fit_generator(\n",
    "      train_generator,\n",
    "      steps_per_epoch=100,\n",
    "      epochs=30,\n",
    "      validation_data=validation_generator,\n",
    "      validation_steps=50,\n",
    "      verbose=2)"
   ]
  },
  {
   "cell_type": "code",
   "execution_count": 15,
   "metadata": {},
   "outputs": [],
   "source": [
    "model.save('cats_and_dogs_small_3.h5')"
   ]
  },
  {
   "cell_type": "markdown",
   "metadata": {},
   "source": [
    "Let's plot our results again:"
   ]
  },
  {
   "cell_type": "code",
   "execution_count": 15,
   "metadata": {},
   "outputs": [
    {
     "data": {
      "image/png": "[encoded data removed]",
      "text/plain": [
       "<matplotlib.figure.Figure at 0x7fd55306e400>"
      ]
     },
     "metadata": {},
     "output_type": "display_data"
    },
    {
     "data": {
      "image/png": "[encoded data removed]",
      "text/plain": [
       "<matplotlib.figure.Figure at 0x7fd544300160>"
      ]
     },
     "metadata": {},
     "output_type": "display_data"
    }
   ],
   "source": [
    "acc = history.history['acc']\n",
    "val_acc = history.history['val_acc']\n",
    "loss = history.history['loss']\n",
    "val_loss = history.history['val_loss']\n",
    "\n",
    "epochs = range(len(acc))\n",
    "\n",
    "plt.plot(epochs, acc, 'bo', label='Training acc')\n",
    "plt.plot(epochs, val_acc, 'b', label='Validation acc')\n",
    "plt.title('Training and validation accuracy')\n",
    "plt.legend()\n",
    "\n",
    "plt.figure()\n",
    "\n",
    "plt.plot(epochs, loss, 'bo', label='Training loss')\n",
    "plt.plot(epochs, val_loss, 'b', label='Validation loss')\n",
    "plt.title('Training and validation loss')\n",
    "plt.legend()\n",
    "\n",
    "plt.show()"
   ]
  },
  {
   "cell_type": "markdown",
   "metadata": {},
   "source": [
    "如图所示，我们得到大概96%的验证精度，这比之前从零起步的小卷积网络好很多。"
   ]
  },
  {
   "cell_type": "markdown",
   "metadata": {},
   "source": [
    "## 模型微调\n",
    "----\n",
    "另一种广泛使用的模型复用方法是模型微调（fine-tuning），与特征提取互为补充。  \n",
    "对于用于特征提取的冻结的模型基，微调是指将其顶部的几层“解冻”，并将这解冻的几层和新增加的部分（本例中是全连接分类器）联合训练。  \n",
    "之所以叫作微调，是因为它只是略微调整了所复用模型中更加抽象的表示，以便让这些表示与手头的问题更加相关。  \n",
    "在下图中，我们“解冻”第五层并微调：\n",
    "\n",
    "![fine-tuning VGG16](https://s3.amazonaws.com/book.keras.io/img/ch5/vgg16_fine_tuning.png)"
   ]
  },
  {
   "cell_type": "markdown",
   "metadata": {},
   "source": [
    "前面说过，冻结 VGG16 的卷积基是为了能够在上面训练一个随机初始化的分类器。    \n",
    "同理，只有上面的分类器已经训练好了，才能微调卷积基的顶部几层。如果分类器没有训练好，那么训练期间通过网络传播的误差信号会特别大，微调的几层之前学到的表示都会被破坏。  \n",
    "微调网络的步骤如下：  \n",
    "(1) 在已经训练好的基网络（base network）上添加自定义网络。  \n",
    "(2) 冻结基网络。  \n",
    "(3) 训练所添加的部分。  \n",
    "(4) 解冻基网络的一些层。  \n",
    "(5) 联合训练解冻的这些层和添加的部分。  \n",
    "\n",
    "\n",
    "在做特征提取时已经完成了前三个步骤。我们继续进行第四步：先解冻 conv_base，然后冻结其中的部分层。先看看网络架构："
   ]
  },
  {
   "cell_type": "code",
   "execution_count": 13,
   "metadata": {},
   "outputs": [
    {
     "name": "stdout",
     "output_type": "stream",
     "text": [
      "_________________________________________________________________\n",
      "Layer (type)                 Output Shape              Param #   \n",
      "=================================================================\n",
      "input_1 (InputLayer)         (None, 150, 150, 3)       0         \n",
      "_________________________________________________________________\n",
      "block1_conv1 (Conv2D)        (None, 150, 150, 64)      1792      \n",
      "_________________________________________________________________\n",
      "block1_conv2 (Conv2D)        (None, 150, 150, 64)      36928     \n",
      "_________________________________________________________________\n",
      "block1_pool (MaxPooling2D)   (None, 75, 75, 64)        0         \n",
      "_________________________________________________________________\n",
      "block2_conv1 (Conv2D)        (None, 75, 75, 128)       73856     \n",
      "_________________________________________________________________\n",
      "block2_conv2 (Conv2D)        (None, 75, 75, 128)       147584    \n",
      "_________________________________________________________________\n",
      "block2_pool (MaxPooling2D)   (None, 37, 37, 128)       0         \n",
      "_________________________________________________________________\n",
      "block3_conv1 (Conv2D)        (None, 37, 37, 256)       295168    \n",
      "_________________________________________________________________\n",
      "block3_conv2 (Conv2D)        (None, 37, 37, 256)       590080    \n",
      "_________________________________________________________________\n",
      "block3_conv3 (Conv2D)        (None, 37, 37, 256)       590080    \n",
      "_________________________________________________________________\n",
      "block3_pool (MaxPooling2D)   (None, 18, 18, 256)       0         \n",
      "_________________________________________________________________\n",
      "block4_conv1 (Conv2D)        (None, 18, 18, 512)       1180160   \n",
      "_________________________________________________________________\n",
      "block4_conv2 (Conv2D)        (None, 18, 18, 512)       2359808   \n",
      "_________________________________________________________________\n",
      "block4_conv3 (Conv2D)        (None, 18, 18, 512)       2359808   \n",
      "_________________________________________________________________\n",
      "block4_pool (MaxPooling2D)   (None, 9, 9, 512)         0         \n",
      "_________________________________________________________________\n",
      "block5_conv1 (Conv2D)        (None, 9, 9, 512)         2359808   \n",
      "_________________________________________________________________\n",
      "block5_conv2 (Conv2D)        (None, 9, 9, 512)         2359808   \n",
      "_________________________________________________________________\n",
      "block5_conv3 (Conv2D)        (None, 9, 9, 512)         2359808   \n",
      "_________________________________________________________________\n",
      "block5_pool (MaxPooling2D)   (None, 4, 4, 512)         0         \n",
      "=================================================================\n",
      "Total params: 14,714,688\n",
      "Trainable params: 0\n",
      "Non-trainable params: 14,714,688\n",
      "_________________________________________________________________\n"
     ]
    }
   ],
   "source": [
    "conv_base.summary()"
   ]
  },
  {
   "cell_type": "markdown",
   "metadata": {},
   "source": [
    "我们将微调最后三个卷积层，也就是说，直到 block4_pool 的所有层都应该被冻结，而block5_conv1、block5_conv2 和 block5_conv3 三层应该是可训练的。\n",
    "为什么不微调更多层？为什么不微调整个卷积基？你当然可以这么做，但需要考虑以下几点：\n",
    "* 卷积基中更靠底部的层编码的是更加通用的可复用特征，而更靠顶部的层编码的是更专业化的特征。微调这些更专业化的特征更加有用，因为它们需要在新问题上改变用途。微调更靠底部的层，得到的回报会更少。\n",
    "\n",
    "* 训练的参数越多，过拟合的风险越大。卷积基有 1500 万个参数，所以在小型数据集上训练这么多参数是有风险的。\n",
    "\n",
    "\n",
    "因此，在这种情况下，一个好策略是仅微调卷积基最后的两三层。现在从上一个例子结束的地方开始，继续实现此方法。"
   ]
  },
  {
   "cell_type": "code",
   "execution_count": 14,
   "metadata": {},
   "outputs": [],
   "source": [
    "# 解冻整个网络\n",
    "conv_base.trainable = True\n",
    "\n",
    "set_trainable = False\n",
    "for layer in conv_base.layers:\n",
    "    if layer.name == 'block5_conv1':\n",
    "        set_trainable = True\n",
    "    if set_trainable:\n",
    "        layer.trainable = True\n",
    "    else:\n",
    "        layer.trainable = False"
   ]
  },
  {
   "cell_type": "markdown",
   "metadata": {},
   "source": [
    "现在可以开始微调网络。我们将使用学习率非常小的 RMSProp 优化器来实现。之所以让学习率很小，是因为对于微调的三层表示，我们希望其变化范围不要太大。太大的权重更新可\n",
    "能会破坏这些表示。"
   ]
  },
  {
   "cell_type": "code",
   "execution_count": 15,
   "metadata": {},
   "outputs": [
    {
     "name": "stdout",
     "output_type": "stream",
     "text": [
      "Epoch 1/100\n",
      "100/100 [==============================] - 452s 5s/step - loss: 0.5681 - acc: 0.7000 - val_loss: 0.3668 - val_acc: 0.8510\n",
      "Epoch 2/100\n",
      "100/100 [==============================] - 525s 5s/step - loss: 0.3964 - acc: 0.8195 - val_loss: 0.2623 - val_acc: 0.8930\n",
      "Epoch 3/100\n",
      "100/100 [==============================] - 477s 5s/step - loss: 0.3180 - acc: 0.8680 - val_loss: 0.2266 - val_acc: 0.9070\n",
      "Epoch 4/100\n",
      "100/100 [==============================] - 507s 5s/step - loss: 0.3011 - acc: 0.8730 - val_loss: 0.2326 - val_acc: 0.8980\n",
      "Epoch 5/100\n",
      "100/100 [==============================] - 509s 5s/step - loss: 0.2736 - acc: 0.8785 - val_loss: 0.2435 - val_acc: 0.9000\n",
      "Epoch 6/100\n",
      "100/100 [==============================] - 517s 5s/step - loss: 0.2630 - acc: 0.8855 - val_loss: 0.1954 - val_acc: 0.9210\n",
      "Epoch 7/100\n",
      "100/100 [==============================] - 527s 5s/step - loss: 0.2467 - acc: 0.9035 - val_loss: 0.1919 - val_acc: 0.9230\n",
      "Epoch 8/100\n",
      "100/100 [==============================] - 516s 5s/step - loss: 0.2291 - acc: 0.9030 - val_loss: 0.1786 - val_acc: 0.9260\n",
      "Epoch 9/100\n",
      "100/100 [==============================] - 607s 6s/step - loss: 0.2021 - acc: 0.9225 - val_loss: 0.1807 - val_acc: 0.9250\n",
      "Epoch 10/100\n",
      "100/100 [==============================] - 768s 8s/step - loss: 0.2151 - acc: 0.9185 - val_loss: 0.1754 - val_acc: 0.9310\n",
      "Epoch 11/100\n",
      "100/100 [==============================] - 516s 5s/step - loss: 0.2033 - acc: 0.9155 - val_loss: 0.2360 - val_acc: 0.9090\n",
      "Epoch 12/100\n",
      "100/100 [==============================] - 533s 5s/step - loss: 0.1940 - acc: 0.9205 - val_loss: 0.2126 - val_acc: 0.9170\n",
      "Epoch 13/100\n",
      "100/100 [==============================] - 537s 5s/step - loss: 0.1828 - acc: 0.9245 - val_loss: 0.1785 - val_acc: 0.9220\n",
      "Epoch 14/100\n",
      "100/100 [==============================] - 536s 5s/step - loss: 0.1744 - acc: 0.9270 - val_loss: 0.2153 - val_acc: 0.9130\n",
      "Epoch 15/100\n",
      "100/100 [==============================] - 536s 5s/step - loss: 0.1693 - acc: 0.9305 - val_loss: 0.1859 - val_acc: 0.9280\n",
      "Epoch 16/100\n",
      "100/100 [==============================] - 537s 5s/step - loss: 0.1669 - acc: 0.9380 - val_loss: 0.1641 - val_acc: 0.9290\n",
      "Epoch 17/100\n",
      "100/100 [==============================] - 547s 5s/step - loss: 0.1618 - acc: 0.9325 - val_loss: 0.1632 - val_acc: 0.9300\n",
      "Epoch 18/100\n",
      "100/100 [==============================] - 545s 5s/step - loss: 0.1394 - acc: 0.9435 - val_loss: 0.2278 - val_acc: 0.9200\n",
      "Epoch 19/100\n",
      "100/100 [==============================] - 689s 7s/step - loss: 0.1548 - acc: 0.9370 - val_loss: 0.1659 - val_acc: 0.9300\n",
      "Epoch 20/100\n",
      "100/100 [==============================] - 1141s 11s/step - loss: 0.1430 - acc: 0.9400 - val_loss: 0.1692 - val_acc: 0.9340\n",
      "Epoch 21/100\n",
      "100/100 [==============================] - 988s 10s/step - loss: 0.1398 - acc: 0.9390 - val_loss: 0.2019 - val_acc: 0.9240\n",
      "Epoch 22/100\n",
      "100/100 [==============================] - 485s 5s/step - loss: 0.1205 - acc: 0.9515 - val_loss: 0.1749 - val_acc: 0.9340\n",
      "Epoch 23/100\n",
      "100/100 [==============================] - 560s 6s/step - loss: 0.1232 - acc: 0.9505 - val_loss: 0.2436 - val_acc: 0.9160\n",
      "Epoch 24/100\n",
      "100/100 [==============================] - 562s 6s/step - loss: 0.1088 - acc: 0.9595 - val_loss: 0.1685 - val_acc: 0.9390\n",
      "Epoch 25/100\n",
      "100/100 [==============================] - 561s 6s/step - loss: 0.1313 - acc: 0.9505 - val_loss: 0.2916 - val_acc: 0.9100\n",
      "Epoch 26/100\n",
      "100/100 [==============================] - 562s 6s/step - loss: 0.1048 - acc: 0.9605 - val_loss: 0.1740 - val_acc: 0.9350\n",
      "Epoch 27/100\n",
      "100/100 [==============================] - 552s 6s/step - loss: 0.1213 - acc: 0.9500 - val_loss: 0.1533 - val_acc: 0.9330\n",
      "Epoch 28/100\n",
      "100/100 [==============================] - 543s 5s/step - loss: 0.1093 - acc: 0.9630 - val_loss: 0.1681 - val_acc: 0.9360\n",
      "Epoch 29/100\n",
      "100/100 [==============================] - 555s 6s/step - loss: 0.1150 - acc: 0.9535 - val_loss: 0.1465 - val_acc: 0.9440\n",
      "Epoch 30/100\n",
      "100/100 [==============================] - 560s 6s/step - loss: 0.1025 - acc: 0.9630 - val_loss: 0.1587 - val_acc: 0.9390\n",
      "Epoch 31/100\n",
      "100/100 [==============================] - 565s 6s/step - loss: 0.0992 - acc: 0.9620 - val_loss: 0.3484 - val_acc: 0.8980\n",
      "Epoch 32/100\n",
      "100/100 [==============================] - 565s 6s/step - loss: 0.0870 - acc: 0.9665 - val_loss: 0.2352 - val_acc: 0.9220\n",
      "Epoch 33/100\n",
      "100/100 [==============================] - 534s 5s/step - loss: 0.0984 - acc: 0.9625 - val_loss: 0.2102 - val_acc: 0.9250\n",
      "Epoch 34/100\n",
      "100/100 [==============================] - 545s 5s/step - loss: 0.0925 - acc: 0.9680 - val_loss: 0.1804 - val_acc: 0.9400\n",
      "Epoch 35/100\n",
      "100/100 [==============================] - 497s 5s/step - loss: 0.0951 - acc: 0.9625 - val_loss: 0.1799 - val_acc: 0.9340\n",
      "Epoch 36/100\n",
      "100/100 [==============================] - 563s 6s/step - loss: 0.0818 - acc: 0.9735 - val_loss: 0.1897 - val_acc: 0.9370\n",
      "Epoch 37/100\n",
      "100/100 [==============================] - 564s 6s/step - loss: 0.0874 - acc: 0.9640 - val_loss: 0.2059 - val_acc: 0.9330\n",
      "Epoch 38/100\n",
      "100/100 [==============================] - 558s 6s/step - loss: 0.0726 - acc: 0.9760 - val_loss: 0.1895 - val_acc: 0.9380\n",
      "Epoch 39/100\n",
      "100/100 [==============================] - 567s 6s/step - loss: 0.0910 - acc: 0.9645 - val_loss: 0.4344 - val_acc: 0.8960\n",
      "Epoch 40/100\n",
      "100/100 [==============================] - 565s 6s/step - loss: 0.0605 - acc: 0.9800 - val_loss: 0.1920 - val_acc: 0.9350\n",
      "Epoch 41/100\n",
      "100/100 [==============================] - 558s 6s/step - loss: 0.0704 - acc: 0.9695 - val_loss: 0.1981 - val_acc: 0.9310\n",
      "Epoch 42/100\n",
      "100/100 [==============================] - 550s 6s/step - loss: 0.0654 - acc: 0.9770 - val_loss: 0.1765 - val_acc: 0.9420\n",
      "Epoch 43/100\n",
      "100/100 [==============================] - 607s 6s/step - loss: 0.0736 - acc: 0.9720 - val_loss: 0.2818 - val_acc: 0.9200\n",
      "Epoch 44/100\n",
      "100/100 [==============================] - 546s 5s/step - loss: 0.0669 - acc: 0.9770 - val_loss: 0.1851 - val_acc: 0.9380\n",
      "Epoch 45/100\n",
      "100/100 [==============================] - 552s 6s/step - loss: 0.0776 - acc: 0.9680 - val_loss: 0.2781 - val_acc: 0.9250\n",
      "Epoch 46/100\n",
      "100/100 [==============================] - 529s 5s/step - loss: 0.0530 - acc: 0.9805 - val_loss: 0.2115 - val_acc: 0.9400\n",
      "Epoch 47/100\n",
      "100/100 [==============================] - 525s 5s/step - loss: 0.0598 - acc: 0.9800 - val_loss: 0.2019 - val_acc: 0.9370\n",
      "Epoch 48/100\n",
      "100/100 [==============================] - 867s 9s/step - loss: 0.0737 - acc: 0.9715 - val_loss: 0.1828 - val_acc: 0.9360\n",
      "Epoch 49/100\n",
      "100/100 [==============================] - 552s 6s/step - loss: 0.0645 - acc: 0.9760 - val_loss: 0.1753 - val_acc: 0.9460\n",
      "Epoch 50/100\n",
      "100/100 [==============================] - 560s 6s/step - loss: 0.0607 - acc: 0.9785 - val_loss: 0.2171 - val_acc: 0.9310\n",
      "Epoch 51/100\n",
      "100/100 [==============================] - 558s 6s/step - loss: 0.0562 - acc: 0.9770 - val_loss: 0.2271 - val_acc: 0.9270\n",
      "Epoch 52/100\n",
      "100/100 [==============================] - 543s 5s/step - loss: 0.0613 - acc: 0.9780 - val_loss: 0.2129 - val_acc: 0.9310\n",
      "Epoch 53/100\n",
      "100/100 [==============================] - 552s 6s/step - loss: 0.0532 - acc: 0.9790 - val_loss: 0.2546 - val_acc: 0.9310\n",
      "Epoch 54/100\n",
      "100/100 [==============================] - 553s 6s/step - loss: 0.0498 - acc: 0.9840 - val_loss: 0.1962 - val_acc: 0.9360\n",
      "Epoch 55/100\n",
      "100/100 [==============================] - 549s 5s/step - loss: 0.0622 - acc: 0.9785 - val_loss: 0.2391 - val_acc: 0.9290\n",
      "Epoch 56/100\n",
      "100/100 [==============================] - 543s 5s/step - loss: 0.0543 - acc: 0.9780 - val_loss: 0.2708 - val_acc: 0.9250\n",
      "Epoch 57/100\n",
      "100/100 [==============================] - 544s 5s/step - loss: 0.0571 - acc: 0.9800 - val_loss: 0.2147 - val_acc: 0.9370\n",
      "Epoch 58/100\n",
      "100/100 [==============================] - 543s 5s/step - loss: 0.0551 - acc: 0.9815 - val_loss: 0.1864 - val_acc: 0.9400\n",
      "Epoch 59/100\n",
      "100/100 [==============================] - 544s 5s/step - loss: 0.0586 - acc: 0.9780 - val_loss: 0.2018 - val_acc: 0.9370\n",
      "Epoch 60/100\n",
      "100/100 [==============================] - 567s 6s/step - loss: 0.0522 - acc: 0.9820 - val_loss: 0.2248 - val_acc: 0.9410\n",
      "Epoch 61/100\n",
      "100/100 [==============================] - 494s 5s/step - loss: 0.0431 - acc: 0.9860 - val_loss: 0.2248 - val_acc: 0.9320\n"
     ]
    },
    {
     "name": "stdout",
     "output_type": "stream",
     "text": [
      "Epoch 62/100\n",
      "100/100 [==============================] - 546s 5s/step - loss: 0.0436 - acc: 0.9815 - val_loss: 0.2557 - val_acc: 0.9260\n",
      "Epoch 63/100\n",
      "100/100 [==============================] - 608s 6s/step - loss: 0.0448 - acc: 0.9845 - val_loss: 0.2890 - val_acc: 0.9290\n",
      "Epoch 64/100\n",
      "100/100 [==============================] - 688s 7s/step - loss: 0.0435 - acc: 0.9855 - val_loss: 0.3280 - val_acc: 0.9200\n",
      "Epoch 65/100\n",
      "100/100 [==============================] - 677s 7s/step - loss: 0.0438 - acc: 0.9880 - val_loss: 0.2198 - val_acc: 0.9400\n",
      "Epoch 66/100\n",
      "100/100 [==============================] - 682s 7s/step - loss: 0.0473 - acc: 0.9870 - val_loss: 0.2151 - val_acc: 0.9380\n",
      "Epoch 67/100\n",
      "100/100 [==============================] - 701s 7s/step - loss: 0.0462 - acc: 0.9790 - val_loss: 0.2114 - val_acc: 0.9420\n",
      "Epoch 68/100\n",
      "100/100 [==============================] - 7913s 79s/step - loss: 0.0413 - acc: 0.9855 - val_loss: 0.2165 - val_acc: 0.9380\n",
      "Epoch 69/100\n",
      "100/100 [==============================] - 433s 4s/step - loss: 0.0417 - acc: 0.9855 - val_loss: 0.2165 - val_acc: 0.9470\n",
      "Epoch 70/100\n",
      "100/100 [==============================] - 438s 4s/step - loss: 0.0370 - acc: 0.9850 - val_loss: 0.2374 - val_acc: 0.9340\n",
      "Epoch 71/100\n",
      "100/100 [==============================] - 435s 4s/step - loss: 0.0349 - acc: 0.9845 - val_loss: 0.2266 - val_acc: 0.9490\n",
      "Epoch 72/100\n",
      "100/100 [==============================] - 449s 4s/step - loss: 0.0412 - acc: 0.9840 - val_loss: 0.3029 - val_acc: 0.9250\n",
      "Epoch 73/100\n",
      "100/100 [==============================] - 439s 4s/step - loss: 0.0324 - acc: 0.9870 - val_loss: 0.3454 - val_acc: 0.9230\n",
      "Epoch 74/100\n",
      "100/100 [==============================] - 443s 4s/step - loss: 0.0391 - acc: 0.9850 - val_loss: 0.2195 - val_acc: 0.9410\n",
      "Epoch 75/100\n",
      "100/100 [==============================] - 440s 4s/step - loss: 0.0376 - acc: 0.9875 - val_loss: 0.2682 - val_acc: 0.9370\n",
      "Epoch 76/100\n",
      "100/100 [==============================] - 439s 4s/step - loss: 0.0364 - acc: 0.9865 - val_loss: 0.4789 - val_acc: 0.9100\n",
      "Epoch 77/100\n",
      "100/100 [==============================] - 582s 6s/step - loss: 0.0356 - acc: 0.9885 - val_loss: 0.2596 - val_acc: 0.9390\n",
      "Epoch 78/100\n",
      "100/100 [==============================] - 434s 4s/step - loss: 0.0396 - acc: 0.9840 - val_loss: 0.2322 - val_acc: 0.9370\n",
      "Epoch 79/100\n",
      "100/100 [==============================] - 442s 4s/step - loss: 0.0424 - acc: 0.9860 - val_loss: 0.2555 - val_acc: 0.9320\n",
      "Epoch 80/100\n",
      "100/100 [==============================] - 442s 4s/step - loss: 0.0473 - acc: 0.9850 - val_loss: 0.3643 - val_acc: 0.9230\n",
      "Epoch 81/100\n",
      "100/100 [==============================] - 440s 4s/step - loss: 0.0418 - acc: 0.9840 - val_loss: 0.2101 - val_acc: 0.9460\n",
      "Epoch 82/100\n",
      "100/100 [==============================] - 442s 4s/step - loss: 0.0551 - acc: 0.9860 - val_loss: 0.2202 - val_acc: 0.9360\n",
      "Epoch 83/100\n",
      "100/100 [==============================] - 449s 4s/step - loss: 0.0391 - acc: 0.9860 - val_loss: 0.2753 - val_acc: 0.9330\n",
      "Epoch 84/100\n",
      "100/100 [==============================] - 453s 5s/step - loss: 0.0404 - acc: 0.9825 - val_loss: 0.2329 - val_acc: 0.9380\n",
      "Epoch 85/100\n",
      "100/100 [==============================] - 457s 5s/step - loss: 0.0377 - acc: 0.9865 - val_loss: 0.2428 - val_acc: 0.9400\n",
      "Epoch 86/100\n",
      "100/100 [==============================] - 455s 5s/step - loss: 0.0429 - acc: 0.9880 - val_loss: 0.3389 - val_acc: 0.9290\n",
      "Epoch 87/100\n",
      "100/100 [==============================] - 457s 5s/step - loss: 0.0330 - acc: 0.9910 - val_loss: 0.2830 - val_acc: 0.9370\n",
      "Epoch 88/100\n",
      "100/100 [==============================] - 450s 4s/step - loss: 0.0401 - acc: 0.9865 - val_loss: 0.4365 - val_acc: 0.9200\n",
      "Epoch 89/100\n",
      "100/100 [==============================] - 450s 5s/step - loss: 0.0242 - acc: 0.9915 - val_loss: 0.2433 - val_acc: 0.9450\n",
      "Epoch 90/100\n",
      "100/100 [==============================] - 449s 4s/step - loss: 0.0360 - acc: 0.9830 - val_loss: 0.2894 - val_acc: 0.9370\n",
      "Epoch 91/100\n",
      "100/100 [==============================] - 456s 5s/step - loss: 0.0289 - acc: 0.9910 - val_loss: 0.2453 - val_acc: 0.9420\n",
      "Epoch 92/100\n",
      "100/100 [==============================] - 452s 5s/step - loss: 0.0457 - acc: 0.9850 - val_loss: 0.3198 - val_acc: 0.9280\n",
      "Epoch 93/100\n",
      "100/100 [==============================] - 451s 5s/step - loss: 0.0295 - acc: 0.9915 - val_loss: 0.2552 - val_acc: 0.9370\n",
      "Epoch 94/100\n",
      "100/100 [==============================] - 451s 5s/step - loss: 0.0343 - acc: 0.9870 - val_loss: 0.2609 - val_acc: 0.9410\n",
      "Epoch 95/100\n",
      "100/100 [==============================] - 452s 5s/step - loss: 0.0255 - acc: 0.9905 - val_loss: 0.2605 - val_acc: 0.9420\n",
      "Epoch 96/100\n",
      "100/100 [==============================] - 451s 5s/step - loss: 0.0407 - acc: 0.9865 - val_loss: 0.2372 - val_acc: 0.9380\n",
      "Epoch 97/100\n",
      "100/100 [==============================] - 451s 5s/step - loss: 0.0300 - acc: 0.9885 - val_loss: 0.4181 - val_acc: 0.9170\n",
      "Epoch 98/100\n",
      "100/100 [==============================] - 448s 4s/step - loss: 0.0380 - acc: 0.9865 - val_loss: 0.4263 - val_acc: 0.9210\n",
      "Epoch 99/100\n",
      "100/100 [==============================] - 452s 5s/step - loss: 0.0233 - acc: 0.9915 - val_loss: 0.2375 - val_acc: 0.9450\n",
      "Epoch 100/100\n",
      "100/100 [==============================] - 455s 5s/step - loss: 0.0258 - acc: 0.9900 - val_loss: 0.2547 - val_acc: 0.9410\n"
     ]
    }
   ],
   "source": [
    "model.compile(loss='binary_crossentropy',\n",
    "              optimizer=optimizers.RMSprop(lr=1e-5),\n",
    "              metrics=['acc'])\n",
    "\n",
    "history = model.fit_generator(\n",
    "      train_generator,\n",
    "      steps_per_epoch=100,\n",
    "      epochs=100,\n",
    "      validation_data=validation_generator,\n",
    "      validation_steps=50)"
   ]
  },
  {
   "cell_type": "code",
   "execution_count": 16,
   "metadata": {},
   "outputs": [],
   "source": [
    "model.save('cats_and_dogs_small_4.h5')"
   ]
  },
  {
   "cell_type": "markdown",
   "metadata": {},
   "source": [
    "画一下精确度和损失值的对比图:"
   ]
  },
  {
   "cell_type": "code",
   "execution_count": 19,
   "metadata": {},
   "outputs": [
    {
     "data": {
      "image/png": "[encoded data removed]",
      "text/plain": [
       "<Figure size 432x288 with 1 Axes>"
      ]
     },
     "metadata": {
      "needs_background": "light"
     },
     "output_type": "display_data"
    },
    {
     "data": {
      "image/png": "[encoded data removed]",
      "text/plain": [
       "<Figure size 432x288 with 1 Axes>"
      ]
     },
     "metadata": {
      "needs_background": "light"
     },
     "output_type": "display_data"
    }
   ],
   "source": [
    "import matplotlib.pyplot as plt\n",
    "\n",
    "acc = history.history['acc']\n",
    "val_acc = history.history['val_acc']\n",
    "loss = history.history['loss']\n",
    "val_loss = history.history['val_loss']\n",
    "\n",
    "epochs = range(len(acc))\n",
    "\n",
    "plt.plot(epochs, acc, 'bo', label='Training acc')\n",
    "plt.plot(epochs, val_acc, 'b', label='Validation acc')\n",
    "plt.title('Training and validation accuracy')\n",
    "plt.legend()\n",
    "\n",
    "plt.figure()\n",
    "\n",
    "plt.plot(epochs, loss, 'bo', label='Training loss')\n",
    "plt.plot(epochs, val_loss, 'b', label='Validation loss')\n",
    "plt.title('Training and validation loss')\n",
    "plt.legend()\n",
    "\n",
    "plt.show()"
   ]
  },
  {
   "cell_type": "markdown",
   "metadata": {},
   "source": [
    "\n",
    "这些曲线看起来包含噪声。为了让图像更具可读性，可以将每个损失和精度都替换为指数移动平均值，从而<font size='3' color='green'>让曲线变得平滑</font>。  \n",
    "下面用一个简单的实用函数来实现:"
   ]
  },
  {
   "cell_type": "code",
   "execution_count": 20,
   "metadata": {},
   "outputs": [
    {
     "data": {
      "image/png": "[encoded data removed]",
      "text/plain": [
       "<Figure size 432x288 with 1 Axes>"
      ]
     },
     "metadata": {
      "needs_background": "light"
     },
     "output_type": "display_data"
    },
    {
     "data": {
      "image/png": "[encoded data removed]",
      "text/plain": [
       "<Figure size 432x288 with 1 Axes>"
      ]
     },
     "metadata": {
      "needs_background": "light"
     },
     "output_type": "display_data"
    }
   ],
   "source": [
    "def smooth_curve(points, factor=0.8):\n",
    "  smoothed_points = []\n",
    "  for point in points:\n",
    "    if smoothed_points:\n",
    "      previous = smoothed_points[-1]\n",
    "      smoothed_points.append(previous * factor + point * (1 - factor))\n",
    "    else:\n",
    "      smoothed_points.append(point)\n",
    "  return smoothed_points\n",
    "\n",
    "plt.plot(epochs,\n",
    "         smooth_curve(acc), 'bo', label='Smoothed training acc')\n",
    "plt.plot(epochs,\n",
    "         smooth_curve(val_acc), 'b', label='Smoothed validation acc')\n",
    "plt.title('Training and validation accuracy')\n",
    "plt.legend()\n",
    "\n",
    "plt.figure()\n",
    "\n",
    "plt.plot(epochs,\n",
    "         smooth_curve(loss), 'bo', label='Smoothed training loss')\n",
    "plt.plot(epochs,\n",
    "         smooth_curve(val_loss), 'b', label='Smoothed validation loss')\n",
    "plt.title('Training and validation loss')\n",
    "plt.legend()\n",
    "\n",
    "plt.show()"
   ]
  },
  {
   "cell_type": "markdown",
   "metadata": {},
   "source": [
    "\n",
    "曲线看起来清晰稳定，可以看到精度大约提高了1%。\n",
    "\n",
    "现在，可以在测试数据上最终评估这个模型："
   ]
  },
  {
   "cell_type": "code",
   "execution_count": 27,
   "metadata": {},
   "outputs": [
    {
     "name": "stdout",
     "output_type": "stream",
     "text": [
      "Found 1000 images belonging to 2 classes.\n",
      "test acc: 0.967999992371\n"
     ]
    }
   ],
   "source": [
    "test_generator = test_datagen.flow_from_directory(\n",
    "        test_dir,\n",
    "        target_size=(150, 150),\n",
    "        batch_size=20,\n",
    "        class_mode='binary')\n",
    "\n",
    "test_loss, test_acc = model.evaluate_generator(test_generator, steps=50)\n",
    "print('test acc:', test_acc)"
   ]
  },
  {
   "cell_type": "markdown",
   "metadata": {},
   "source": [
    "## 小结: 在小数据集上使用卷积\n",
    "\n",
    "下面是从以上两节的练习中学到的要点：\n",
    "* 卷积神经网络是用于计算机视觉任务的最佳机器学习模型。即使在非常小的数据集上也可以从头开始训练一个卷积神经网络，而且得到的结果还不错。\n",
    "* 在小型数据集上的主要问题是过拟合。在处理图像数据时，数据增强是一种降低过拟合的强大方法。\n",
    "* 利用特征提取，可以很容易将现有的卷积神经网络复用于新的数据集。对于小型图像数据集，这是一种很有价值的方法。\n",
    "* 作为特征提取的补充，你还可以使用微调，将现有模型之前学到的一些数据表示应用于新问题。这种方法可以进一步提高模型性能。\n",
    "现在已经拥有一套可靠的工具来处理图像分类问题，特别是对于小型数据集。"
   ]
  },
  {
   "cell_type": "code",
   "execution_count": null,
   "metadata": {},
   "outputs": [],
   "source": []
  }
 ],
 "metadata": {
  "kernelspec": {
   "display_name": "Python 3",
   "language": "python",
   "name": "python3"
  },
  "language_info": {
   "codemirror_mode": {
    "name": "ipython",
    "version": 3
   },
   "file_extension": ".py",
   "mimetype": "text/x-python",
   "name": "python",
   "nbconvert_exporter": "python",
   "pygments_lexer": "ipython3",
   "version": "3.5.6"
  }
 },
 "nbformat": 4,
 "nbformat_minor": 2
}

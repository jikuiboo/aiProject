{
 "cells": [
  {
   "cell_type": "markdown",
   "metadata": {},
   "source": [
    "# This script obtaining frames from camera and save as jpg."
   ]
  },
  {
   "cell_type": "code",
   "execution_count": 1,
   "metadata": {},
   "outputs": [],
   "source": [
    "\n",
    "import cv2\n",
    "video_capture = cv2.VideoCapture(0)\n",
    "c=0\n",
    "while True:\n",
    "    # Capture frame-by-frame\n",
    "\n",
    "    ret, frame = video_capture.read()\n",
    "    cv2.imshow(\"frame\", frame)\n",
    "    \n",
    "    timeF = 30\n",
    "    \n",
    "    if(c%timeF == 0): #save as jpg every 30 frame  \n",
    "         cv2.imwrite('d:\\\\'+str(c) + '.jpg',frame) #save as jpg\n",
    "\n",
    "    c+=1\n",
    "   \n",
    "\n",
    "    if cv2.waitKey(1) & 0xFF == ord('q'):\n",
    "        break\n",
    "\n",
    "# When everything is done, release the capture\n",
    "\n",
    "video_capture.release()\n",
    "cv2.destroyAllWindows()"
   ]
  }
 ],
 "metadata": {
  "kernelspec": {
   "display_name": "Python 3",
   "language": "python",
   "name": "python3"
  },
  "language_info": {
   "codemirror_mode": {
    "name": "ipython",
    "version": 3
   },
   "file_extension": ".py",
   "mimetype": "text/x-python",
   "name": "python",
   "nbconvert_exporter": "python",
   "pygments_lexer": "ipython3",
   "version": "3.5.6"
  }
 },
 "nbformat": 4,
 "nbformat_minor": 1
}
